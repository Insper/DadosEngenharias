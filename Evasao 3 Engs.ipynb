{
 "cells": [
  {
   "cell_type": "markdown",
   "metadata": {},
   "source": [
    "## Mirandata - evasão em cursos de engenharia"
   ]
  },
  {
   "cell_type": "code",
   "execution_count": 1,
   "metadata": {
    "collapsed": true
   },
   "outputs": [],
   "source": [
    "import pandas as pd\n",
    "import numpy as np\n",
    "%matplotlib inline\n",
    "\n",
    "par_datas = ((2009,2013), (2010, 2014), (2011,2015), (2012, 2016))\n",
    "\n",
    "\n",
    "def evasao_ponderada(df_filtrado, par_datas):\n",
    "    print(df_filtrado.NO_CURSO.value_counts())\n",
    "    df = df_filtrado\n",
    "    ev = calcula_evasao(df, par_datas)\n",
    "    d = pd.DataFrame(ev)\n",
    "    d_pos = d[d[2]>0] # Excluí os casos em que o numero de vagas diminuiu. São ~ 0.5% das IEs\n",
    "    # Evasao = peso da IE * taxa de evasao\n",
    "    d_pos_evasao = d_pos[2]*d_pos[3]\n",
    "    d_pos_evasao= d_pos_evasao/np.sum(d_pos[3])\n",
    "    return d_pos_evasao\n",
    "    \n",
    "    \n",
    "def calcula_evasao(df_filtrado, par_datas):\n",
    "    df = df_filtrado\n",
    "    gb = df.groupby([\"CO_IES\",  \"CO_CURSO\", \"ano_censo\"]).sum()\n",
    "    gb_mini = df.groupby([\"CO_IES\",  \"CO_CURSO\"]).sum()\n",
    "    evasao = []\n",
    "    for par in gb_mini.index:\n",
    "        for datas in par_datas:\n",
    "            evasao_par = calcula_evasao_gb(gb, par[0], par[1], datas[0], datas[1])\n",
    "            if evasao_par != None:\n",
    "                evasao.append(evasao_par)   \n",
    "    return evasao\n",
    "    \n",
    "       \n",
    "def calcula_evasao_gb(gb, ies, curso, ano_inicial, ano_final):\n",
    "    #print(gb.loc[(ies, curso),:].index ) \n",
    "    if (ano_inicial in gb.loc[(ies, curso),:].index ) and (ano_final in gb.loc[(ies, curso),:].index):\n",
    "        if pd.notnull(gb.loc[(ies,curso,ano_final),:].QT_CONCLUINTE_CURSO) and pd.notnull(gb.loc[(ies,curso,ano_inicial),:].QT_INGRESSO_CURSO):\n",
    "            saida = gb.loc[(ies,curso,ano_final),:].QT_CONCLUINTE_CURSO\n",
    "            entrada = gb.loc[(ies,curso,ano_inicial),:].QT_INGRESSO_CURSO\n",
    "            evasao = (entrada - saida)/entrada\n",
    "            evasao_peso = entrada\n",
    "            #print(\"saida: {0}, ingresso{1} \".format(saida, entrada))\n",
    "            if evasao_peso!=0:\n",
    "                #Não teve ingresso 5 anos atrás\n",
    "                return ies, curso, evasao, evasao_peso\n",
    "            else:\n",
    "                return None\n",
    "        else:\n",
    "            #print(\"Não foi possível calcular evasão\")\n",
    "            pass\n",
    "\n",
    "    return None\n",
    "    \n",
    "\n"
   ]
  },
  {
   "cell_type": "code",
   "execution_count": 3,
   "metadata": {
    "collapsed": true
   },
   "outputs": [],
   "source": [
    "dados = pd.read_excel(\"engenharias_2009_a_2016.xlsx\")"
   ]
  },
  {
   "cell_type": "code",
   "execution_count": 4,
   "metadata": {
    "collapsed": true
   },
   "outputs": [],
   "source": [
    "comps = dados.loc[dados.NO_CURSO.str.contains(\"COMPUTAÇÃO\"),:]\n",
    "mec = dados.loc[dados.NO_CURSO.str.contains(\"MECÂNICA\"),:]\n",
    "mex = dados.loc[dados.NO_CURSO.str.contains(\"TRÔNICA\")|dados.NO_CURSO.str.contains(\"CONTROLE\") ,:]"
   ]
  },
  {
   "cell_type": "code",
   "execution_count": 5,
   "metadata": {},
   "outputs": [
    {
     "data": {
      "text/plain": [
       "ENGENHARIA DE COMPUTAÇÃO                                   862\n",
       "ENGENHARIA DA COMPUTAÇÃO                                   261\n",
       "ENGENHARIA DE COMPUTAÇÃO E INFORMAÇÃO                        7\n",
       "ENGENHARIA DE COMPUTAÇÃO - ÊNFASE SISTEMAS CORPORATIVOS      3\n",
       "ENGENHARIA DE COMPUTAÇÃO - ENGENHARIA DA COMPUTAÇÃO          3\n",
       "ENGENHARIA DA COMPUTAÇÃO - COMPUTAÇÃO APLICADA               2\n",
       "ENGENHARIA DA COMPUTAÇÃO - AUTOMAÇÃO INDUSTRIAL              2\n",
       "ENGENHARIA DA COMPUTAÇÃO - SISTEMAS E COMPUTAÇÃO             2\n",
       "ENGENHARIA DA COMPUTAÇÃO - TELEMÁTICA                        1\n",
       "Name: NO_CURSO, dtype: int64"
      ]
     },
     "execution_count": 5,
     "metadata": {},
     "output_type": "execute_result"
    }
   ],
   "source": [
    "comps.NO_CURSO.value_counts()"
   ]
  },
  {
   "cell_type": "code",
   "execution_count": 6,
   "metadata": {},
   "outputs": [
    {
     "data": {
      "text/plain": [
       "ENGENHARIA MECÂNICA                                    2080\n",
       "ENGENHARIA MECÂNICA AERONÁUTICA                          13\n",
       "ENGENHARIA MECÂNICA - ÊNFASE EM MATERIAIS METÁLICOS       7\n",
       "ENGENHARIA MECÂNICA EMPRESARIAL                           7\n",
       "ENGENHARIA MECÂNICA - ÊNFASE EM MECÂNICA PLENA            7\n",
       "ENGENHARIA MECÂNICA E DE AUTOMÓVEIS                       7\n",
       "ENGENHARIA MECÂNICA - ÊNFASE EM PROJETOS                  6\n",
       "ENGENHARIA MECÂNICA - ENGENHARIA MECÂNICA                 6\n",
       "ENGENHARIA MECÂNICA E DE ARMAMENTO                        5\n",
       "ENGENHARIA MECÂNICA - ÊNFASE EM AERONAVES                 4\n",
       "ABI - ENGENHARIA MECÂNICA                                 3\n",
       "ENGENHARIA MECÂNICA DE ARMAMENTO                          2\n",
       "ENGENHARIA INDUSTRIAL MECÂNICA                            2\n",
       "ENGENHARIA MECÂNICA - MECÂNICA E AUTOMOBILÍSTICA          2\n",
       "ENGENHARIA MECÂNICA - CONTROLE E AUTOMAÇÃO                2\n",
       "ENGENHARIA MECÂNICA - ÊNFASE EM MECATRÔNICA               2\n",
       "ENGENHARIA - ENGENHARIA MECÂNICA                          1\n",
       "Name: NO_CURSO, dtype: int64"
      ]
     },
     "execution_count": 6,
     "metadata": {},
     "output_type": "execute_result"
    }
   ],
   "source": [
    "mec.NO_CURSO.value_counts()"
   ]
  },
  {
   "cell_type": "code",
   "execution_count": 7,
   "metadata": {},
   "outputs": [
    {
     "data": {
      "text/plain": [
       "ENGENHARIA DE CONTROLE E AUTOMAÇÃO                                         966\n",
       "ENGENHARIA MECATRÔNICA                                                     187\n",
       "ENGENHARIA DE CONTROLE E AUTOMACAO                                          41\n",
       "ENGENHARIA DE CONTROLE E AUTOMAÇÃO - MECATRÔNICA                            38\n",
       "ENGENHARIA - ENGENHARIA DE CONTROLE E AUTOMACAO                             11\n",
       "ENGENHARIA DE AUTOMAÇÃO E CONTROLE                                          11\n",
       "ENGENHARIA DE CONTROLE E AUTOMACAO  MECATRONICA                             10\n",
       "ENGENHARIA DE CONTROLE E AUTOMACAO MECATRONICA                               8\n",
       "ENGENHARIA DE MECATRÔNICA                                                    7\n",
       "ENGENHARIA DE CONTROLE E AUTOMAÇÃO DE PROCESSOS                              7\n",
       "MECATRÔNICA                                                                  3\n",
       "ENGENHARIA - ENGENHARIA DE AUTOMACAO E CONTROLE                              2\n",
       "ENGENHARIA MECATRÔNICA - ENGENHARIA DE CONTROLE E AUTOMAÇÃO                  2\n",
       "ENGENHARIA MECÂNICA - ÊNFASE EM MECATRÔNICA                                  2\n",
       "ENGENHARIA DE CONTROLE E AUTOMAÇÃO - ENGENHARIA DE CONTROLE E AUTOMAÇÃO      2\n",
       "ENGENHARIA MECÂNICA - CONTROLE E AUTOMAÇÃO                                   2\n",
       "ENGENHARIA DE AUTOMACAO E CONTROLE                                           2\n",
       "ENGENHARIA DE CONTROLE E AUTOMACAOMECATRONICA CTB                            1\n",
       "ENGENHARIA ELETRICA - CONTROLE E AUTOMACAO                                   1\n",
       "ENGENHARIA MECATRONICA - ENGENHARIA DE CONTROLE E AUTOMACAO                  1\n",
       "ENGENHARIA DE CONTROLE E AUTOMACAOMECATRONICA  CDR                           1\n",
       "ENGENHARIA MECATRONICA CONTROLE E AUTOMACAO                                  1\n",
       "ENGENHARIA DE CONTROLE E AUTOMACAO MECATRONICA INDIANOPOLIS                  1\n",
       "ENGENHARIA DE CONTROLE E AUTOMACAO DE PROCESSOS                              1\n",
       "ENGENHARIA MECANICA AUTOMACAO E CONTROLE                                     1\n",
       "ENGENHARIA DE CONTROLE E AUTOMACAO INDUSTRIAL                                1\n",
       "ENGENHARIA DE CONTROLE E AUTOMACAO MECATRONICA MARQUES                       1\n",
       "ENGENHARIA EM CONTROLE E AUTOMACAO                                           1\n",
       "Name: NO_CURSO, dtype: int64"
      ]
     },
     "execution_count": 7,
     "metadata": {},
     "output_type": "execute_result"
    }
   ],
   "source": [
    "mex.NO_CURSO.value_counts()"
   ]
  },
  {
   "cell_type": "code",
   "execution_count": 14,
   "metadata": {},
   "outputs": [
    {
     "name": "stdout",
     "output_type": "stream",
     "text": [
      "ENGENHARIA DE COMPUTAÇÃO                                   862\n",
      "ENGENHARIA DA COMPUTAÇÃO                                   261\n",
      "ENGENHARIA DE COMPUTAÇÃO E INFORMAÇÃO                        7\n",
      "ENGENHARIA DE COMPUTAÇÃO - ÊNFASE SISTEMAS CORPORATIVOS      3\n",
      "ENGENHARIA DE COMPUTAÇÃO - ENGENHARIA DA COMPUTAÇÃO          3\n",
      "ENGENHARIA DA COMPUTAÇÃO - COMPUTAÇÃO APLICADA               2\n",
      "ENGENHARIA DA COMPUTAÇÃO - AUTOMAÇÃO INDUSTRIAL              2\n",
      "ENGENHARIA DA COMPUTAÇÃO - SISTEMAS E COMPUTAÇÃO             2\n",
      "ENGENHARIA DA COMPUTAÇÃO - TELEMÁTICA                        1\n",
      "Name: NO_CURSO, dtype: int64\n"
     ]
    },
    {
     "name": "stderr",
     "output_type": "stream",
     "text": [
      "/anaconda3/lib/python3.6/site-packages/ipykernel_launcher.py:39: RuntimeWarning: divide by zero encountered in double_scalars\n"
     ]
    }
   ],
   "source": [
    "ev_comp = evasao_ponderada(comps, par_datas)"
   ]
  },
  {
   "cell_type": "code",
   "execution_count": 15,
   "metadata": {},
   "outputs": [
    {
     "data": {
      "text/plain": [
       "0.75360439788403677"
      ]
     },
     "execution_count": 15,
     "metadata": {},
     "output_type": "execute_result"
    }
   ],
   "source": [
    "sum(ev_comp)"
   ]
  },
  {
   "cell_type": "code",
   "execution_count": 10,
   "metadata": {},
   "outputs": [
    {
     "name": "stdout",
     "output_type": "stream",
     "text": [
      "ENGENHARIA MECÂNICA                                    2080\n",
      "ENGENHARIA MECÂNICA AERONÁUTICA                          13\n",
      "ENGENHARIA MECÂNICA - ÊNFASE EM MATERIAIS METÁLICOS       7\n",
      "ENGENHARIA MECÂNICA EMPRESARIAL                           7\n",
      "ENGENHARIA MECÂNICA - ÊNFASE EM MECÂNICA PLENA            7\n",
      "ENGENHARIA MECÂNICA E DE AUTOMÓVEIS                       7\n",
      "ENGENHARIA MECÂNICA - ÊNFASE EM PROJETOS                  6\n",
      "ENGENHARIA MECÂNICA - ENGENHARIA MECÂNICA                 6\n",
      "ENGENHARIA MECÂNICA E DE ARMAMENTO                        5\n",
      "ENGENHARIA MECÂNICA - ÊNFASE EM AERONAVES                 4\n",
      "ABI - ENGENHARIA MECÂNICA                                 3\n",
      "ENGENHARIA MECÂNICA DE ARMAMENTO                          2\n",
      "ENGENHARIA INDUSTRIAL MECÂNICA                            2\n",
      "ENGENHARIA MECÂNICA - MECÂNICA E AUTOMOBILÍSTICA          2\n",
      "ENGENHARIA MECÂNICA - CONTROLE E AUTOMAÇÃO                2\n",
      "ENGENHARIA MECÂNICA - ÊNFASE EM MECATRÔNICA               2\n",
      "ENGENHARIA - ENGENHARIA MECÂNICA                          1\n",
      "Name: NO_CURSO, dtype: int64\n"
     ]
    },
    {
     "name": "stderr",
     "output_type": "stream",
     "text": [
      "/anaconda3/lib/python3.6/site-packages/ipykernel_launcher.py:39: RuntimeWarning: divide by zero encountered in double_scalars\n"
     ]
    }
   ],
   "source": [
    "ev_mec = evasao_ponderada(mec, par_datas)\n"
   ]
  },
  {
   "cell_type": "code",
   "execution_count": 11,
   "metadata": {},
   "outputs": [
    {
     "data": {
      "text/plain": [
       "0.68598530254860079"
      ]
     },
     "execution_count": 11,
     "metadata": {},
     "output_type": "execute_result"
    }
   ],
   "source": [
    "sum(ev_mec)"
   ]
  },
  {
   "cell_type": "markdown",
   "metadata": {
    "scrolled": true
   },
   "source": [
    "pd.crosstab(data.CO_IES, data.NO_CURSO)"
   ]
  },
  {
   "cell_type": "code",
   "execution_count": 12,
   "metadata": {},
   "outputs": [
    {
     "name": "stdout",
     "output_type": "stream",
     "text": [
      "ENGENHARIA DE CONTROLE E AUTOMAÇÃO                                         966\n",
      "ENGENHARIA MECATRÔNICA                                                     187\n",
      "ENGENHARIA DE CONTROLE E AUTOMACAO                                          41\n",
      "ENGENHARIA DE CONTROLE E AUTOMAÇÃO - MECATRÔNICA                            38\n",
      "ENGENHARIA - ENGENHARIA DE CONTROLE E AUTOMACAO                             11\n",
      "ENGENHARIA DE AUTOMAÇÃO E CONTROLE                                          11\n",
      "ENGENHARIA DE CONTROLE E AUTOMACAO  MECATRONICA                             10\n",
      "ENGENHARIA DE CONTROLE E AUTOMACAO MECATRONICA                               8\n",
      "ENGENHARIA DE MECATRÔNICA                                                    7\n",
      "ENGENHARIA DE CONTROLE E AUTOMAÇÃO DE PROCESSOS                              7\n",
      "MECATRÔNICA                                                                  3\n",
      "ENGENHARIA - ENGENHARIA DE AUTOMACAO E CONTROLE                              2\n",
      "ENGENHARIA MECATRÔNICA - ENGENHARIA DE CONTROLE E AUTOMAÇÃO                  2\n",
      "ENGENHARIA MECÂNICA - ÊNFASE EM MECATRÔNICA                                  2\n",
      "ENGENHARIA DE CONTROLE E AUTOMAÇÃO - ENGENHARIA DE CONTROLE E AUTOMAÇÃO      2\n",
      "ENGENHARIA MECÂNICA - CONTROLE E AUTOMAÇÃO                                   2\n",
      "ENGENHARIA DE AUTOMACAO E CONTROLE                                           2\n",
      "ENGENHARIA DE CONTROLE E AUTOMACAOMECATRONICA CTB                            1\n",
      "ENGENHARIA ELETRICA - CONTROLE E AUTOMACAO                                   1\n",
      "ENGENHARIA MECATRONICA - ENGENHARIA DE CONTROLE E AUTOMACAO                  1\n",
      "ENGENHARIA DE CONTROLE E AUTOMACAOMECATRONICA  CDR                           1\n",
      "ENGENHARIA MECATRONICA CONTROLE E AUTOMACAO                                  1\n",
      "ENGENHARIA DE CONTROLE E AUTOMACAO MECATRONICA INDIANOPOLIS                  1\n",
      "ENGENHARIA DE CONTROLE E AUTOMACAO DE PROCESSOS                              1\n",
      "ENGENHARIA MECANICA AUTOMACAO E CONTROLE                                     1\n",
      "ENGENHARIA DE CONTROLE E AUTOMACAO INDUSTRIAL                                1\n",
      "ENGENHARIA DE CONTROLE E AUTOMACAO MECATRONICA MARQUES                       1\n",
      "ENGENHARIA EM CONTROLE E AUTOMACAO                                           1\n",
      "Name: NO_CURSO, dtype: int64\n"
     ]
    },
    {
     "name": "stderr",
     "output_type": "stream",
     "text": [
      "/anaconda3/lib/python3.6/site-packages/ipykernel_launcher.py:39: RuntimeWarning: divide by zero encountered in double_scalars\n",
      "/anaconda3/lib/python3.6/site-packages/ipykernel_launcher.py:39: RuntimeWarning: invalid value encountered in double_scalars\n"
     ]
    }
   ],
   "source": [
    "ev_mex = evasao_ponderada(mex, par_datas)\n"
   ]
  },
  {
   "cell_type": "code",
   "execution_count": 13,
   "metadata": {},
   "outputs": [
    {
     "data": {
      "text/plain": [
       "0.7264583909317115"
      ]
     },
     "execution_count": 13,
     "metadata": {},
     "output_type": "execute_result"
    }
   ],
   "source": [
    "sum(ev_mex)"
   ]
  },
  {
   "cell_type": "code",
   "execution_count": null,
   "metadata": {
    "collapsed": true
   },
   "outputs": [],
   "source": []
  }
 ],
 "metadata": {
  "kernelspec": {
   "display_name": "Python 3",
   "language": "python",
   "name": "python3"
  },
  "language_info": {
   "codemirror_mode": {
    "name": "ipython",
    "version": 3
   },
   "file_extension": ".py",
   "mimetype": "text/x-python",
   "name": "python",
   "nbconvert_exporter": "python",
   "pygments_lexer": "ipython3",
   "version": "3.6.1"
  }
 },
 "nbformat": 4,
 "nbformat_minor": 2
}
