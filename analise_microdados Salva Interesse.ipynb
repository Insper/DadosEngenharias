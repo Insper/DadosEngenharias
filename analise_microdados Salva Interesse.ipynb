{
 "cells": [
  {
   "cell_type": "markdown",
   "metadata": {},
   "source": [
    "## Filtragem de dados"
   ]
  },
  {
   "cell_type": "code",
   "execution_count": 1,
   "metadata": {
    "collapsed": true
   },
   "outputs": [],
   "source": [
    "import pandas as pd\n",
    "import numpy as np"
   ]
  },
  {
   "cell_type": "code",
   "execution_count": 35,
   "metadata": {},
   "outputs": [
    {
     "name": "stdout",
     "output_type": "stream",
     "text": [
      "./microdados_censo_superior_2015/DADOS/DM_CURSO.CSV\r\n",
      "./microdados_censo_superior_2015/DADOS/._DM_CURSO.CSV\r\n",
      "./microdados_censo_superior_2016/DADOS/DM_CURSO.CSV\r\n",
      "./microdados_censo_superior_2016/DADOS/._DM_CURSO.CSV\r\n",
      "./2011/DADOS/DM_CURSO.CSV\r\n",
      "./2013/DADOS/DM_CURSO.CSV\r\n",
      "./2012/DADOS/DM_CURSO.CSV\r\n",
      "./2009/DADOS/DM_CURSO.CSV\r\n",
      "./microdados_censo_superior_2010/DADOS/DM_CURSO.CSV\r\n",
      "./microdados_censo_superior_2014/2014/DADOS/DM_CURSO.CSV\r\n"
     ]
    }
   ],
   "source": [
    "! find . | grep -i DM_CURSO.csv"
   ]
  },
  {
   "cell_type": "code",
   "execution_count": 28,
   "metadata": {
    "collapsed": true
   },
   "outputs": [],
   "source": [
    "interesse = [\"Engenharia de computação\", \"Engenharia de computação\",\"Engenharia de controle e automação\", \"Engenharia mecatrônica\", \"Engenharia mecânica\" ]\n",
    "\n",
    "\n",
    "def filtra_interesse_nome_completo(file, interesse):\n",
    "    df = pd.read_table(file, encoding=\"latin1\", sep=\"|\")\n",
    "    subconjunto = df[df.NO_OCDE.isin(interesse)]\n",
    "    return subconjunto\n",
    "\n",
    "def subconjunto_nc_to_excel(file, interesse, outfile):\n",
    "    dados = filtra_interesse_nome_completo(file, interesse)\n",
    "    dados.to_excel(outfile)\n",
    "    return dados\n",
    "\n",
    "def filtra_interesse_parte_nome(file, parte):\n",
    "    df = pd.read_table(file, encoding=\"latin1\", sep=\"|\")\n",
    "    subconjunto = df[df.NO_OCDE.str.contains(parte, na=False)]\n",
    "    return subconjunto\n",
    "\n",
    "def subconjunto_parte_nome_to_excel(file, interesse, outfile):\n",
    "    dados = filtra_interesse_parte_nome(file, interesse)\n",
    "    dados.to_excel(outfile)\n"
   ]
  },
  {
   "cell_type": "code",
   "execution_count": 36,
   "metadata": {
    "collapsed": true
   },
   "outputs": [],
   "source": [
    "anos = {2009: \"./2009/DADOS/DM_CURSO.CSV\", 2010: \"./microdados_censo_superior_2010/DADOS/DM_CURSO.CSV\", 2011: \"./2011/DADOS/DM_CURSO.CSV\", 2012: \"./2012/DADOS/DM_CURSO.CSV\", 2013:\"./2013/DADOS/DM_CURSO.CSV\", \\\n",
    "        2014: \"./microdados_censo_superior_2014/2014/DADOS/DM_CURSO.CSV\", 2015: \"./microdados_censo_superior_2015/DADOS/DM_CURSO.CSV\", 2016: \"./microdados_censo_superior_2016/DADOS/DM_CURSO.CSV\"}"
   ]
  },
  {
   "cell_type": "code",
   "execution_count": 40,
   "metadata": {},
   "outputs": [],
   "source": [
    "faixa = list(range(2009, 2017))"
   ]
  },
  {
   "cell_type": "code",
   "execution_count": 29,
   "metadata": {
    "collapsed": true
   },
   "outputs": [],
   "source": [
    "file2015 = \"./microdados_censo_superior_2015/DADOS/DM_CURSO.CSV\""
   ]
  },
  {
   "cell_type": "code",
   "execution_count": 41,
   "metadata": {},
   "outputs": [
    {
     "ename": "TypeError",
     "evalue": "subconjunto_nc_to_excel() missing 1 required positional argument: 'outfile'",
     "output_type": "error",
     "traceback": [
      "\u001b[0;31m---------------------------------------------------------------------------\u001b[0m",
      "\u001b[0;31mTypeError\u001b[0m                                 Traceback (most recent call last)",
      "\u001b[0;32m<ipython-input-41-d93fa0379dc8>\u001b[0m in \u001b[0;36m<module>\u001b[0;34m()\u001b[0m\n\u001b[1;32m      1\u001b[0m \u001b[0;32mfor\u001b[0m \u001b[0mano\u001b[0m \u001b[0;32min\u001b[0m \u001b[0mfaixa\u001b[0m\u001b[0;34m:\u001b[0m\u001b[0;34m\u001b[0m\u001b[0m\n\u001b[1;32m      2\u001b[0m     \u001b[0moutput\u001b[0m \u001b[0;34m=\u001b[0m \u001b[0;34m\"engenharias{0}.xlsx\"\u001b[0m\u001b[0;34m.\u001b[0m\u001b[0mformat\u001b[0m\u001b[0;34m(\u001b[0m\u001b[0mano\u001b[0m\u001b[0;34m)\u001b[0m\u001b[0;34m\u001b[0m\u001b[0m\n\u001b[0;32m----> 3\u001b[0;31m     \u001b[0msubconjunto_nc_to_excel\u001b[0m\u001b[0;34m(\u001b[0m\u001b[0manos\u001b[0m\u001b[0;34m[\u001b[0m\u001b[0mano\u001b[0m\u001b[0;34m]\u001b[0m\u001b[0;34m,\u001b[0m \u001b[0minteresse\u001b[0m\u001b[0;34m,\u001b[0m \u001b[0;34m)\u001b[0m\u001b[0;34m\u001b[0m\u001b[0m\n\u001b[0m\u001b[1;32m      4\u001b[0m     \u001b[0mprint\u001b[0m\u001b[0;34m(\u001b[0m\u001b[0manos\u001b[0m\u001b[0;34m[\u001b[0m\u001b[0mano\u001b[0m\u001b[0;34m]\u001b[0m\u001b[0;34m,\u001b[0m \u001b[0;34m\" filtered to \"\u001b[0m\u001b[0;34m,\u001b[0m \u001b[0moutput\u001b[0m\u001b[0;34m)\u001b[0m\u001b[0;34m\u001b[0m\u001b[0m\n",
      "\u001b[0;31mTypeError\u001b[0m: subconjunto_nc_to_excel() missing 1 required positional argument: 'outfile'"
     ]
    }
   ],
   "source": [
    "for ano in faixa:\n",
    "    output = \"engenharias{0}.xlsx\".format(ano)\n",
    "    subconjunto_nc_to_excel(anos[ano], interesse, output)  \n",
    "    print(anos[ano], \" filtered to \", output)"
   ]
  },
  {
   "cell_type": "code",
   "execution_count": 9,
   "metadata": {},
   "outputs": [
    {
     "data": {
      "text/plain": [
       "Index(['CO_IES', 'NO_IES', 'CO_CATEGORIA_ADMINISTRATIVA',\n",
       "       'DS_CATEGORIA_ADMINISTRATIVA', 'CO_ORGANIZACAO_ACADEMICA',\n",
       "       'DS_ORGANIZACAO_ACADEMICA', 'CO_LOCAL_OFERTA_CURSO',\n",
       "       'CO_MUNICIPIO_CURSO', 'NO_MUNICIPIO_CURSO', 'CO_UF_CURSO',\n",
       "       'SGL_UF_CURSO', 'NO_REGIAO_CURSO', 'IN_CAPITAL_CURSO', 'CO_CURSO',\n",
       "       'NO_CURSO', 'CO_SITUACAO_CURSO', 'DS_SITUACAO_CURSO', 'CO_OCDE',\n",
       "       'NO_OCDE', 'CO_OCDE_AREA_GERAL', 'NO_OCDE_AREA_GERAL',\n",
       "       'CO_OCDE_AREA_ESPECIFICA', 'NO_OCDE_AREA_ESPECIFICA',\n",
       "       'CO_OCDE_AREA_DETALHADA', 'NO_OCDE_AREA_DETALHADA', 'CO_GRAU_ACADEMICO',\n",
       "       'DS_GRAU_ACADEMICO', 'CO_MODALIDADE_ENSINO', 'DS_MODALIDADE_ENSINO',\n",
       "       'CO_NIVEL_ACADEMICO', 'DS_NIVEL_ACADEMICO', 'IN_GRATUITO',\n",
       "       'TP_ATRIBUTO_INGRESSO', 'NU_CARGA_HORARIA', 'DT_INICIO_FUNCIONAMENTO',\n",
       "       'DT_AUTORIZACAO_CURSO', 'IN_AJUDA_DEFICIENTE', 'IN_MATERIAL_DIGITAL',\n",
       "       'IN_MATERIAL_AMPLIADO', 'IN_MATERIAL_TATIL', 'IN_MATERIAL_IMPRESSO',\n",
       "       'IN_MATERIAL_AUDIO', 'IN_MATERIAL_BRAILLE', 'IN_MATERIAL_LIBRAS',\n",
       "       'IN_DISCIPLINA_LIBRAS', 'IN_TRADUTOR_LIBRAS', 'IN_GUIA_INTERPRETE',\n",
       "       'IN_RECURSOS_COMUNICACAO', 'IN_RECURSOS_INFORMATICA',\n",
       "       'IN_INTEGRAL_CURSO', 'IN_MATUTINO_CURSO', 'IN_VESPERTINO_CURSO',\n",
       "       'IN_NOTURNO_CURSO', 'NU_INTEGRALIZACAO_INTEGRAL',\n",
       "       'NU_INTEGRALIZACAO_MATUTINO', 'NU_INTEGRALIZACAO_VESPERTINO',\n",
       "       'NU_INTEGRALIZACAO_NOTURNO', 'NU_INTEGRALIZACAO_EAD',\n",
       "       'IN_OFERECE_DISC_SEMI_PRES', 'NU_PERC_CAR_HOR_SEMI_PRES',\n",
       "       'IN_POSSUI_LABORATORIO', 'QT_INSC_VAGAS_NOVAS_INT',\n",
       "       'QT_INSC_VAGAS_NOVAS_MAT', 'QT_INSC_VAGAS_NOVAS_VESP',\n",
       "       'QT_INSC_VAGAS_NOVAS_NOT', 'QT_INSC_VAGAS_NOVAS_EAD',\n",
       "       'QT_INSC_VAGAS_REMAN_INT', 'QT_INSC_VAGAS_REMAN_MAT',\n",
       "       'QT_INSC_VAGAS_REMAN_VESP', 'QT_INSC_VAGAS_REMAN_NOT',\n",
       "       'QT_INSC_VAGAS_REMAN_EAD', 'QT_INSC_VAGAS_PROG_ESP_INT',\n",
       "       'QT_INSC_VAGAS_PROG_ESP_MAT', 'QT_INSC_VAGAS_PROG_ESP_VESP',\n",
       "       'QT_INSC_VAGAS_PROG_ESP_NOT', 'QT_INSC_VAGAS_PROG_ESP_EAD',\n",
       "       'QT_VAGAS_NOVAS_INTEGRAL', 'QT_VAGAS_NOVAS_MATUTINO',\n",
       "       'QT_VAGAS_NOVAS_VESPERTINO', 'QT_VAGAS_NOVAS_NOTURNO',\n",
       "       'QT_VAGAS_NOVAS_EAD', 'QT_VAGAS_REMANESC_INTEGRAL',\n",
       "       'QT_VAGAS_REMANESC_MATUTINO', 'QT_VAGAS_REMANESC_VESPERTINO',\n",
       "       'QT_VAGAS_REMANESC_NOTURNO', 'QT_VAGAS_REMANESC_EAD',\n",
       "       'QT_VAGAS_PROG_ESP_INTEGRAL', 'QT_VAGAS_PROG_ESP_MATUTINO',\n",
       "       'QT_VAGAS_PROG_ESP_VESPERTINO', 'QT_VAGAS_PROG_ESP_NOTURNO',\n",
       "       'QT_VAGAS_PROG_ESP_EAD', 'QT_MATRICULA_CURSO', 'QT_CONCLUINTE_CURSO',\n",
       "       'QT_INGRESSO_CURSO', 'QT_INGRESSO_VAGAS_NOVAS'],\n",
       "      dtype='object')"
      ]
     },
     "execution_count": 9,
     "metadata": {},
     "output_type": "execute_result"
    }
   ],
   "source": [
    "curso2015.columns"
   ]
  },
  {
   "cell_type": "code",
   "execution_count": null,
   "metadata": {
    "collapsed": true
   },
   "outputs": [],
   "source": []
  },
  {
   "cell_type": "code",
   "execution_count": null,
   "metadata": {
    "collapsed": true
   },
   "outputs": [],
   "source": []
  }
 ],
 "metadata": {
  "kernelspec": {
   "display_name": "Python 3",
   "language": "python",
   "name": "python3"
  },
  "language_info": {
   "codemirror_mode": {
    "name": "ipython",
    "version": 3
   },
   "file_extension": ".py",
   "mimetype": "text/x-python",
   "name": "python",
   "nbconvert_exporter": "python",
   "pygments_lexer": "ipython3",
   "version": "3.6.1"
  }
 },
 "nbformat": 4,
 "nbformat_minor": 2
}
